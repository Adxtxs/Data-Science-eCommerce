{
 "cells": [
  {
   "cell_type": "code",
   "execution_count": 3,
   "id": "daf89388",
   "metadata": {},
   "outputs": [
    {
     "name": "stdout",
     "output_type": "stream",
     "text": [
      "Lookalike recommendations saved to Lookalike.csv\n"
     ]
    }
   ],
   "source": [
    "import pandas as pd\n",
    "from sklearn.metrics.pairwise import cosine_similarity\n",
    "from sklearn.preprocessing import StandardScaler\n",
    "\n",
    "customers = pd.read_csv(r'C:\\Users\\hp\\Downloads\\Customers.csv')\n",
    "products = pd.read_csv(r'C:\\Users\\hp\\Downloads\\Products.csv')\n",
    "transactions = pd.read_csv(r'C:\\Users\\hp\\Downloads\\Transactions.csv')\n",
    "\n",
    "# Merge datasets on CustomerID and ProductID\n",
    "merged_data = transactions.merge(customers, on='CustomerID').merge(products, on='ProductID')\n",
    "\n",
    "# Feature Engineering\n",
    "customer_features = merged_data.groupby('CustomerID').agg({\n",
    "    'Quantity': 'sum',           # Total quantity purchased\n",
    "    'TotalValue': 'sum',         # Total spending\n",
    "    'TransactionDate': 'count'   # Number of transactions\n",
    "}).reset_index()\n",
    "\n",
    "# Standardizing \n",
    "scaler = StandardScaler()\n",
    "features_scaled = scaler.fit_transform(customer_features[['Quantity', 'TotalValue', 'TransactionDate']])\n",
    "\n",
    "# similarity scores\n",
    "similarity_matrix = cosine_similarity(features_scaled)\n",
    "\n",
    "similarity_df = pd.DataFrame(similarity_matrix, index=customer_features['CustomerID'], columns=customer_features['CustomerID'])\n",
    "\n",
    "# Lookalike Recommendations\n",
    "lookalike_recommendations = {}\n",
    "\n",
    "for customer_id in customer_features['CustomerID'].head(20):  # For first 20 customers\n",
    "    similar_scores = similarity_df[customer_id].sort_values(ascending=False)[1:4]  # Top 3 similar customers\n",
    "    lookalike_recommendations[customer_id] = list(zip(similar_scores.index, similar_scores.values))\n",
    "\n",
    "lookalike_list = []\n",
    "for cust_id, recommendations in lookalike_recommendations.items():\n",
    "    cust_map = {\"cust_id\": cust_id, \"lookalikes\": []}\n",
    "    for rec in recommendations:\n",
    "        cust_map[\"lookalikes\"].append({\"similar_cust_id\": rec[0], \"similarity_score\": rec[1]})\n",
    "    lookalike_list.append(cust_map)\n",
    "\n",
    "lookalike_df = pd.DataFrame(lookalike_list)\n",
    "\n",
    "lookalike_df.to_csv('Lookalike.csv', index=False)\n",
    "\n",
    "print(\"Lookalike recommendations saved to Lookalike.csv\")\n"
   ]
  },
  {
   "cell_type": "code",
   "execution_count": null,
   "id": "69925f60",
   "metadata": {},
   "outputs": [],
   "source": []
  }
 ],
 "metadata": {
  "kernelspec": {
   "display_name": "Python 3 (ipykernel)",
   "language": "python",
   "name": "python3"
  },
  "language_info": {
   "codemirror_mode": {
    "name": "ipython",
    "version": 3
   },
   "file_extension": ".py",
   "mimetype": "text/x-python",
   "name": "python",
   "nbconvert_exporter": "python",
   "pygments_lexer": "ipython3",
   "version": "3.11.4"
  }
 },
 "nbformat": 4,
 "nbformat_minor": 5
}
